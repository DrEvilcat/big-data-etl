{
 "cells": [
  {
   "cell_type": "code",
   "execution_count": 1,
   "metadata": {
    "colab": {
     "base_uri": "https://localhost:8080/"
    },
    "executionInfo": {
     "elapsed": 30763,
     "status": "ok",
     "timestamp": 1674117268226,
     "user": {
      "displayName": "Liam Baker",
      "userId": "06347422697440285228"
     },
     "user_tz": -660
    },
    "id": "-8eFW_wl1n39",
    "outputId": "f4444fe6-23e6-4907-de76-62c81b2ed2fc"
   },
   "outputs": [
    {
     "name": "stdout",
     "output_type": "stream",
     "text": [
      "\r",
      "0% [Working]\r",
      "            \r",
      "Get:1 http://security.ubuntu.com/ubuntu focal-security InRelease [114 kB]\n",
      "\r",
      "0% [Connecting to archive.ubuntu.com (185.125.190.39)] [1 InRelease 14.2 kB/114\r",
      "                                                                               \r",
      "Hit:2 https://cloud.r-project.org/bin/linux/ubuntu focal-cran40/ InRelease\n",
      "\r",
      "0% [Connecting to archive.ubuntu.com (185.125.190.39)] [1 InRelease 14.2 kB/114\r",
      "                                                                               \r",
      "Ign:3 https://developer.download.nvidia.com/compute/machine-learning/repos/ubuntu2004/x86_64  InRelease\n",
      "\r",
      "0% [Waiting for headers] [1 InRelease 60.5 kB/114 kB 53%] [Waiting for headers]\r",
      "                                                                               \r",
      "Hit:4 https://developer.download.nvidia.com/compute/cuda/repos/ubuntu2004/x86_64  InRelease\n",
      "\r",
      "0% [Waiting for headers] [1 InRelease 75.0 kB/114 kB 66%] [Connecting to ppa.la\r",
      "                                                                               \r",
      "Hit:5 https://developer.download.nvidia.com/compute/machine-learning/repos/ubuntu2004/x86_64  Release\n",
      "Hit:6 http://archive.ubuntu.com/ubuntu focal InRelease\n",
      "Get:7 http://archive.ubuntu.com/ubuntu focal-updates InRelease [114 kB]\n",
      "Hit:8 http://ppa.launchpad.net/c2d4u.team/c2d4u4.0+/ubuntu focal InRelease\n",
      "Hit:9 http://ppa.launchpad.net/cran/libgit2/ubuntu focal InRelease\n",
      "Hit:10 http://ppa.launchpad.net/deadsnakes/ppa/ubuntu focal InRelease\n",
      "Get:11 http://archive.ubuntu.com/ubuntu focal-backports InRelease [108 kB]\n",
      "Hit:12 http://ppa.launchpad.net/graphics-drivers/ppa/ubuntu focal InRelease\n",
      "Fetched 336 kB in 5s (74.3 kB/s)\n",
      "Reading package lists... Done\n"
     ]
    }
   ],
   "source": [
    "# Activate Spark in our Colab notebook.\n",
    "import os\n",
    "# Find the latest version of spark 3.2  from http://www.apache.org/dist/spark/ and enter as the spark version\n",
    "# For example:\n",
    "# spark_version = 'spark-3.2.2'\n",
    "spark_version = 'spark-3.2.3'\n",
    "os.environ['SPARK_VERSION']=spark_version\n",
    "\n",
    "# Install Spark and Java\n",
    "!apt-get update\n",
    "!apt-get install openjdk-11-jdk-headless -qq > /dev/null\n",
    "!wget -q http://www.apache.org/dist/spark/$SPARK_VERSION/$SPARK_VERSION-bin-hadoop2.7.tgz\n",
    "!tar xf $SPARK_VERSION-bin-hadoop2.7.tgz\n",
    "!pip install -q findspark\n",
    "\n",
    "# Set Environment Variables\n",
    "import os\n",
    "os.environ[\"JAVA_HOME\"] = \"/usr/lib/jvm/java-11-openjdk-amd64\"\n",
    "os.environ[\"SPARK_HOME\"] = f\"/content/{spark_version}-bin-hadoop2.7\"\n",
    "\n",
    "# Start a SparkSession\n",
    "import findspark\n",
    "findspark.init()"
   ]
  },
  {
   "cell_type": "code",
   "execution_count": 2,
   "metadata": {
    "colab": {
     "base_uri": "https://localhost:8080/"
    },
    "executionInfo": {
     "elapsed": 563,
     "status": "ok",
     "timestamp": 1674117268787,
     "user": {
      "displayName": "Liam Baker",
      "userId": "06347422697440285228"
     },
     "user_tz": -660
    },
    "id": "BzCrgs0Z1rnw",
    "outputId": "5582bd41-0402-4b0b-bf41-66c0f177a679"
   },
   "outputs": [
    {
     "name": "stdout",
     "output_type": "stream",
     "text": [
      "--2023-01-19 08:34:28--  https://jdbc.postgresql.org/download/postgresql-42.2.9.jar\n",
      "Resolving jdbc.postgresql.org (jdbc.postgresql.org)... 72.32.157.228, 2001:4800:3e1:1::228\n",
      "Connecting to jdbc.postgresql.org (jdbc.postgresql.org)|72.32.157.228|:443... connected.\n",
      "HTTP request sent, awaiting response... 200 OK\n",
      "Length: 914037 (893K) [application/java-archive]\n",
      "Saving to: ‘postgresql-42.2.9.jar.3’\n",
      "\n",
      "postgresql-42.2.9.j 100%[===================>] 892.61K  5.69MB/s    in 0.2s    \n",
      "\n",
      "2023-01-19 08:34:28 (5.69 MB/s) - ‘postgresql-42.2.9.jar.3’ saved [914037/914037]\n",
      "\n"
     ]
    }
   ],
   "source": [
    "# Get postgresql package\n",
    "!wget https://jdbc.postgresql.org/download/postgresql-42.2.9.jar"
   ]
  },
  {
   "cell_type": "code",
   "execution_count": 3,
   "metadata": {
    "executionInfo": {
     "elapsed": 11440,
     "status": "ok",
     "timestamp": 1674117280226,
     "user": {
      "displayName": "Liam Baker",
      "userId": "06347422697440285228"
     },
     "user_tz": -660
    },
    "id": "0DuBth0V2PR8"
   },
   "outputs": [],
   "source": [
    "# Import Spark and create a SparkSession\n",
    "from pyspark.sql import SparkSession\n",
    "spark = SparkSession.builder.appName(\"BigData-HW-1\").config(\"spark.driver.extraClassPath\",\"/content/postgresql-42.2.9.jar\").getOrCreate()"
   ]
  },
  {
   "cell_type": "markdown",
   "metadata": {
    "id": "D3W2XJVi2CU-"
   },
   "source": [
    "# Extract the Amazon Data into Spark DataFrame"
   ]
  },
  {
   "cell_type": "code",
   "execution_count": 4,
   "metadata": {
    "executionInfo": {
     "elapsed": 25867,
     "status": "ok",
     "timestamp": 1674117306090,
     "user": {
      "displayName": "Liam Baker",
      "userId": "06347422697440285228"
     },
     "user_tz": -660
    },
    "id": "Na_stw7b1wfU"
   },
   "outputs": [],
   "source": [
    "# Read in the data from an S3 Bucket\n",
    "from pyspark import SparkFiles\n",
    "spark.sparkContext.addFile('https://s3.amazonaws.com/amazon-reviews-pds/tsv/amazon_reviews_us_Watches_v1_00.tsv.gz')\n",
    "watches_df = spark.read.csv(SparkFiles.get(\"amazon_reviews_us_Watches_v1_00.tsv.gz\"), sep=\"\\t\", header=True, inferSchema=True)\n"
   ]
  },
  {
   "cell_type": "code",
   "execution_count": 5,
   "metadata": {
    "colab": {
     "base_uri": "https://localhost:8080/"
    },
    "executionInfo": {
     "elapsed": 4579,
     "status": "ok",
     "timestamp": 1674117310665,
     "user": {
      "displayName": "Liam Baker",
      "userId": "06347422697440285228"
     },
     "user_tz": -660
    },
    "id": "Cayz-3Q52IM3",
    "outputId": "ee6b1724-e136-4838-89a6-971ff5806b1f"
   },
   "outputs": [
    {
     "data": {
      "text/plain": [
       "960872"
      ]
     },
     "execution_count": 5,
     "metadata": {},
     "output_type": "execute_result"
    }
   ],
   "source": [
    "# Get the number of rows in the DataFrame.\n",
    "watches_df.count()"
   ]
  },
  {
   "cell_type": "markdown",
   "metadata": {
    "id": "C9U0rkGZ2eu7"
   },
   "source": [
    "# Transform the Data"
   ]
  },
  {
   "cell_type": "markdown",
   "metadata": {
    "id": "dUoftWoKtM_c"
   },
   "source": [
    "## Create the \"review_id_table\"."
   ]
  },
  {
   "cell_type": "code",
   "execution_count": 6,
   "metadata": {
    "colab": {
     "base_uri": "https://localhost:8080/"
    },
    "executionInfo": {
     "elapsed": 555,
     "status": "ok",
     "timestamp": 1674117311218,
     "user": {
      "displayName": "Liam Baker",
      "userId": "06347422697440285228"
     },
     "user_tz": -660
    },
    "id": "2tMYkSIk2d-m",
    "outputId": "86409ae0-79b5-4c12-9810-33d06386719a"
   },
   "outputs": [
    {
     "name": "stdout",
     "output_type": "stream",
     "text": [
      "+--------------+-----------+----------+--------------+-----------+\n",
      "|     review_id|customer_id|product_id|product_parent|review_date|\n",
      "+--------------+-----------+----------+--------------+-----------+\n",
      "|R3O9SGZBVQBV76|    3653882|B00FALQ1ZC|     937001370| 2015-08-31|\n",
      "| RKH8BNC3L5DLF|   14661224|B00D3RGO20|     484010722| 2015-08-31|\n",
      "|R2HLE8WKZSU3NL|   27324930|B00DKYC7TK|     361166390| 2015-08-31|\n",
      "|R31U3UH5AZ42LL|    7211452|B000EQS1JW|     958035625| 2015-08-31|\n",
      "|R2SV659OUJ945Y|   12733322|B00A6GFD7S|     765328221| 2015-08-31|\n",
      "| RA51CP8TR5A2L|    6576411|B00EYSOSE8|     230493695| 2015-08-31|\n",
      "| RB2Q7DLDN6TH6|   11811565|B00WM0QA3M|     549298279| 2015-08-31|\n",
      "|R2RHFJV0UYBK3Y|   49401598|B00A4EYBR0|     844009113| 2015-08-31|\n",
      "|R2Z6JOQ94LFHEP|   45925069|B00MAMPGGE|     263720892| 2015-08-31|\n",
      "| RX27XIIWY5JPB|   44751341|B004LBPB7Q|     124278407| 2015-08-31|\n",
      "|R15C7QEZT0LGZN|    9962330|B00KGTVGKS|      28017857| 2015-08-31|\n",
      "|R361XSS37V0NCZ|   16097204|B0039UT5OU|     685450910| 2015-08-31|\n",
      "| ROTNLALUAJAUB|   51330346|B00MPF0XJQ|     767769082| 2015-08-31|\n",
      "|R2DYX7QU6BGOHR|    4201739|B003P1OHHS|     648595227| 2015-08-31|\n",
      "| RWASY7FKI7QOT|   26339765|B00R70YEOE|     457338020| 2015-08-31|\n",
      "|R2KKYZIN3CCL21|    2692576|B000FVE3BG|     824370661| 2015-08-31|\n",
      "|R22H4FGVD5O52O|   44713366|B008X6JB12|     814431355| 2015-08-31|\n",
      "|R11UACZERCM4ZY|   32778769|B0040UOFPW|     187700878| 2015-08-31|\n",
      "|R1AT8NQ38UQOL6|   27258523|B00UR2R5UY|     594315262| 2015-08-31|\n",
      "|R2NCZRQGIF1Q75|   42646538|B00HFF57L0|     520810507| 2015-08-31|\n",
      "+--------------+-----------+----------+--------------+-----------+\n",
      "only showing top 20 rows\n",
      "\n"
     ]
    }
   ],
   "source": [
    "from pyspark.sql.functions import to_date\n",
    "from pyspark.sql.functions import col\n",
    "# Create the \"review_id_df\" DataFrame with the appropriate columns and data types.\n",
    "review_id_df = watches_df.select(watches_df['review_id'],watches_df['customer_id'], watches_df['product_id'], watches_df['product_parent'], to_date(watches_df['review_date'])).withColumnRenamed(\"to_date(review_date)\",\"review_date\")\n",
    "\n",
    "review_id_df.show()"
   ]
  },
  {
   "cell_type": "markdown",
   "metadata": {
    "id": "aAVCFjXhtXO8"
   },
   "source": [
    "## Create the \"products\" Table"
   ]
  },
  {
   "cell_type": "code",
   "execution_count": 7,
   "metadata": {
    "colab": {
     "base_uri": "https://localhost:8080/"
    },
    "executionInfo": {
     "elapsed": 7604,
     "status": "ok",
     "timestamp": 1674117318819,
     "user": {
      "displayName": "Liam Baker",
      "userId": "06347422697440285228"
     },
     "user_tz": -660
    },
    "id": "g9gTNhT62je4",
    "outputId": "c5114c59-7461-4d8b-a6d1-12c6e71e050f"
   },
   "outputs": [
    {
     "name": "stdout",
     "output_type": "stream",
     "text": [
      "+----------+--------------------+\n",
      "|product_id|       product_title|\n",
      "+----------+--------------------+\n",
      "|B00EVX7V1I|Game Time Women's...|\n",
      "|B009S4DODY|XOXO Women's XO55...|\n",
      "|B00LBKXQRW|Anne Klein Women'...|\n",
      "|B0009P679Y|Invicta Men's 993...|\n",
      "|B00DHF30RU|M&c Women's | Cla...|\n",
      "|B00NIDA43Y|GuTe Classic Skel...|\n",
      "|B008EQDDPQ|Nautica Men's N13...|\n",
      "|B004VRBZ66|Timex Men's T2N63...|\n",
      "|B009BEO81I|        Fossil Riley|\n",
      "|B008B39MTI|XOXO Women's XO55...|\n",
      "|B00TGPM8PU|Handmade Wooden W...|\n",
      "|B00VNXQQQ0|Eterna 2520-41-64...|\n",
      "|B00B1PV1C4|Nautica Men's N19...|\n",
      "|B00N1Y8TQ4|Tissot Men's T095...|\n",
      "|B00G6DBTY6|red line Men's RL...|\n",
      "|B00HM04AYI|Columbia Men's Fi...|\n",
      "|B00VI8HB96|GUESS I90176L1 Wo...|\n",
      "|B00IT25WJU|LanTac DGN556B Dr...|\n",
      "|B0106S12XE|Skmei S Shock Ana...|\n",
      "|B00FPSJ63Y|Michael Kors Ladi...|\n",
      "+----------+--------------------+\n",
      "only showing top 20 rows\n",
      "\n"
     ]
    }
   ],
   "source": [
    "# Create the \"products_df\" DataFrame that drops the duplicates in the \"product_id\" and \"product_title columns. \n",
    "products_df = watches_df.select(watches_df['product_id'],watches_df['product_title']).distinct()\n",
    "products_df.show()\n"
   ]
  },
  {
   "cell_type": "markdown",
   "metadata": {
    "id": "LJHuZ9zut0e5"
   },
   "source": [
    "## Create the \"customers\" Table"
   ]
  },
  {
   "cell_type": "code",
   "execution_count": 8,
   "metadata": {
    "colab": {
     "base_uri": "https://localhost:8080/"
    },
    "executionInfo": {
     "elapsed": 7457,
     "status": "ok",
     "timestamp": 1674117326273,
     "user": {
      "displayName": "Liam Baker",
      "userId": "06347422697440285228"
     },
     "user_tz": -660
    },
    "id": "_pF2Vf3c2n2O",
    "outputId": "56fe1110-fa30-4eb2-b9b2-6e211d0e35ee"
   },
   "outputs": [
    {
     "name": "stdout",
     "output_type": "stream",
     "text": [
      "+-----------+-----+\n",
      "|customer_id|count|\n",
      "+-----------+-----+\n",
      "|    1567510|    1|\n",
      "|   19502021|    1|\n",
      "|   12819130|    1|\n",
      "|   35329257|    2|\n",
      "|     108460|    1|\n",
      "|    5453476|    1|\n",
      "|   29913055|    1|\n",
      "|   30717305|    1|\n",
      "|    1570030|    1|\n",
      "|   19032020|    1|\n",
      "|   44178035|    1|\n",
      "|   26079415|    2|\n",
      "|   14230926|    1|\n",
      "|   43478048|    2|\n",
      "|   43694941|    1|\n",
      "|   12318815|    3|\n",
      "|   13731855|    1|\n",
      "|     740134|    1|\n",
      "|   41956754|    1|\n",
      "|   20324070|    3|\n",
      "+-----------+-----+\n",
      "only showing top 20 rows\n",
      "\n"
     ]
    }
   ],
   "source": [
    "# Create the \"customers_df\" DataFrame that groups the data on the \"customer_id\" by the number of times a customer reviewed a product. \n",
    "customers_df = watches_df.select(watches_df['customer_id']).groupBy('customer_id').count()\n",
    "customers_df.show()"
   ]
  },
  {
   "cell_type": "markdown",
   "metadata": {
    "id": "8SbTasxbuXGK"
   },
   "source": [
    "## Create the \"vine_table\"."
   ]
  },
  {
   "cell_type": "code",
   "execution_count": 9,
   "metadata": {
    "colab": {
     "base_uri": "https://localhost:8080/"
    },
    "executionInfo": {
     "elapsed": 523,
     "status": "ok",
     "timestamp": 1674117326794,
     "user": {
      "displayName": "Liam Baker",
      "userId": "06347422697440285228"
     },
     "user_tz": -660
    },
    "id": "WHQKbmCE2p3Q",
    "outputId": "ff9008b5-c089-4d34-b1f0-8a0d4f3e744b"
   },
   "outputs": [
    {
     "name": "stdout",
     "output_type": "stream",
     "text": [
      "+--------------+-----------+-------------+-----------+----+\n",
      "|     review_id|star_rating|helpful_votes|total_votes|vine|\n",
      "+--------------+-----------+-------------+-----------+----+\n",
      "|R3O9SGZBVQBV76|          5|            0|          0|   N|\n",
      "| RKH8BNC3L5DLF|          5|            0|          0|   N|\n",
      "|R2HLE8WKZSU3NL|          2|            1|          1|   N|\n",
      "|R31U3UH5AZ42LL|          5|            0|          0|   N|\n",
      "|R2SV659OUJ945Y|          4|            0|          0|   N|\n",
      "| RA51CP8TR5A2L|          5|            0|          0|   N|\n",
      "| RB2Q7DLDN6TH6|          5|            1|          1|   N|\n",
      "|R2RHFJV0UYBK3Y|          1|            1|          5|   N|\n",
      "|R2Z6JOQ94LFHEP|          5|            1|          2|   N|\n",
      "| RX27XIIWY5JPB|          4|            0|          0|   N|\n",
      "|R15C7QEZT0LGZN|          4|            2|          2|   N|\n",
      "|R361XSS37V0NCZ|          1|            0|          0|   N|\n",
      "| ROTNLALUAJAUB|          3|            0|          0|   N|\n",
      "|R2DYX7QU6BGOHR|          5|            0|          0|   N|\n",
      "| RWASY7FKI7QOT|          5|            2|          3|   N|\n",
      "|R2KKYZIN3CCL21|          5|            0|          0|   N|\n",
      "|R22H4FGVD5O52O|          4|            1|          1|   N|\n",
      "|R11UACZERCM4ZY|          5|            0|          0|   N|\n",
      "|R1AT8NQ38UQOL6|          5|            0|          0|   N|\n",
      "|R2NCZRQGIF1Q75|          4|            0|          0|   N|\n",
      "+--------------+-----------+-------------+-----------+----+\n",
      "only showing top 20 rows\n",
      "\n"
     ]
    }
   ],
   "source": [
    "# Create the \"vine_df\" DataFrame that has the \"review_id\", \"star_rating\", \"helpful_votes\", \"total_votes\", and \"vine\" columns. \n",
    "vine_df = watches_df.select(watches_df['review_id'],watches_df['star_rating'],watches_df['helpful_votes'],watches_df['total_votes'],watches_df['vine'])\n",
    "vine_df.show()"
   ]
  },
  {
   "cell_type": "markdown",
   "metadata": {
    "id": "I8aTsEjZ2s6L"
   },
   "source": [
    "# Load"
   ]
  },
  {
   "cell_type": "code",
   "execution_count": 14,
   "metadata": {
    "executionInfo": {
     "elapsed": 293,
     "status": "ok",
     "timestamp": 1674117499974,
     "user": {
      "displayName": "Liam Baker",
      "userId": "06347422697440285228"
     },
     "user_tz": -660
    },
    "id": "W4dzUKfI2vXM"
   },
   "outputs": [],
   "source": [
    "mode = \"append\"\n",
    "jdbc_url=\"jdbc:postgresql://<endpoint>:5432/<Database Name>\"\n",
    "config = {\"user\":\"postgres\", \"password\": \"<password>\", \"driver\":\"org.postgresql.Driver\"}"
   ]
  },
  {
   "cell_type": "code",
   "execution_count": 15,
   "metadata": {
    "colab": {
     "base_uri": "https://localhost:8080/",
     "height": 1000
    },
    "executionInfo": {
     "elapsed": 4,
     "status": "error",
     "timestamp": 1674117501818,
     "user": {
      "displayName": "Liam Baker",
      "userId": "06347422697440285228"
     },
     "user_tz": -660
    },
    "id": "iOxKqMsD2yVs",
    "outputId": "c84cd449-d45e-44ab-e6d2-5bc0c22a0ac0"
   },
   "outputs": [
    {
     "ename": "Py4JJavaError",
     "evalue": "ignored",
     "output_type": "error",
     "traceback": [
      "\u001b[0;31m---------------------------------------------------------------------------\u001b[0m",
      "\u001b[0;31mPy4JJavaError\u001b[0m                             Traceback (most recent call last)",
      "\u001b[0;32m<ipython-input-15-777dd587f0a7>\u001b[0m in \u001b[0;36m<module>\u001b[0;34m\u001b[0m\n\u001b[1;32m      1\u001b[0m \u001b[0;31m# Write review_id_df to table in RDS\u001b[0m\u001b[0;34m\u001b[0m\u001b[0;34m\u001b[0m\u001b[0;34m\u001b[0m\u001b[0m\n\u001b[0;32m----> 2\u001b[0;31m \u001b[0mreview_id_df\u001b[0m\u001b[0;34m.\u001b[0m\u001b[0mwrite\u001b[0m\u001b[0;34m.\u001b[0m\u001b[0mjdbc\u001b[0m\u001b[0;34m(\u001b[0m\u001b[0murl\u001b[0m\u001b[0;34m=\u001b[0m\u001b[0mjdbc_url\u001b[0m\u001b[0;34m,\u001b[0m \u001b[0mtable\u001b[0m\u001b[0;34m=\u001b[0m\u001b[0;34m'review_id_table'\u001b[0m\u001b[0;34m,\u001b[0m \u001b[0mmode\u001b[0m\u001b[0;34m=\u001b[0m\u001b[0mmode\u001b[0m\u001b[0;34m,\u001b[0m \u001b[0mproperties\u001b[0m\u001b[0;34m=\u001b[0m\u001b[0mconfig\u001b[0m\u001b[0;34m)\u001b[0m\u001b[0;34m\u001b[0m\u001b[0;34m\u001b[0m\u001b[0m\n\u001b[0m",
      "\u001b[0;32m/content/spark-3.2.3-bin-hadoop2.7/python/pyspark/sql/readwriter.py\u001b[0m in \u001b[0;36mjdbc\u001b[0;34m(self, url, table, mode, properties)\u001b[0m\n\u001b[1;32m   1036\u001b[0m         \u001b[0;32mfor\u001b[0m \u001b[0mk\u001b[0m \u001b[0;32min\u001b[0m \u001b[0mproperties\u001b[0m\u001b[0;34m:\u001b[0m\u001b[0;34m\u001b[0m\u001b[0;34m\u001b[0m\u001b[0m\n\u001b[1;32m   1037\u001b[0m             \u001b[0mjprop\u001b[0m\u001b[0;34m.\u001b[0m\u001b[0msetProperty\u001b[0m\u001b[0;34m(\u001b[0m\u001b[0mk\u001b[0m\u001b[0;34m,\u001b[0m \u001b[0mproperties\u001b[0m\u001b[0;34m[\u001b[0m\u001b[0mk\u001b[0m\u001b[0;34m]\u001b[0m\u001b[0;34m)\u001b[0m\u001b[0;34m\u001b[0m\u001b[0;34m\u001b[0m\u001b[0m\n\u001b[0;32m-> 1038\u001b[0;31m         \u001b[0mself\u001b[0m\u001b[0;34m.\u001b[0m\u001b[0mmode\u001b[0m\u001b[0;34m(\u001b[0m\u001b[0mmode\u001b[0m\u001b[0;34m)\u001b[0m\u001b[0;34m.\u001b[0m\u001b[0m_jwrite\u001b[0m\u001b[0;34m.\u001b[0m\u001b[0mjdbc\u001b[0m\u001b[0;34m(\u001b[0m\u001b[0murl\u001b[0m\u001b[0;34m,\u001b[0m \u001b[0mtable\u001b[0m\u001b[0;34m,\u001b[0m \u001b[0mjprop\u001b[0m\u001b[0;34m)\u001b[0m\u001b[0;34m\u001b[0m\u001b[0;34m\u001b[0m\u001b[0m\n\u001b[0m\u001b[1;32m   1039\u001b[0m \u001b[0;34m\u001b[0m\u001b[0m\n\u001b[1;32m   1040\u001b[0m \u001b[0;34m\u001b[0m\u001b[0m\n",
      "\u001b[0;32m/content/spark-3.2.3-bin-hadoop2.7/python/lib/py4j-0.10.9.5-src.zip/py4j/java_gateway.py\u001b[0m in \u001b[0;36m__call__\u001b[0;34m(self, *args)\u001b[0m\n\u001b[1;32m   1319\u001b[0m \u001b[0;34m\u001b[0m\u001b[0m\n\u001b[1;32m   1320\u001b[0m         \u001b[0manswer\u001b[0m \u001b[0;34m=\u001b[0m \u001b[0mself\u001b[0m\u001b[0;34m.\u001b[0m\u001b[0mgateway_client\u001b[0m\u001b[0;34m.\u001b[0m\u001b[0msend_command\u001b[0m\u001b[0;34m(\u001b[0m\u001b[0mcommand\u001b[0m\u001b[0;34m)\u001b[0m\u001b[0;34m\u001b[0m\u001b[0;34m\u001b[0m\u001b[0m\n\u001b[0;32m-> 1321\u001b[0;31m         return_value = get_return_value(\n\u001b[0m\u001b[1;32m   1322\u001b[0m             answer, self.gateway_client, self.target_id, self.name)\n\u001b[1;32m   1323\u001b[0m \u001b[0;34m\u001b[0m\u001b[0m\n",
      "\u001b[0;32m/content/spark-3.2.3-bin-hadoop2.7/python/pyspark/sql/utils.py\u001b[0m in \u001b[0;36mdeco\u001b[0;34m(*a, **kw)\u001b[0m\n\u001b[1;32m    109\u001b[0m     \u001b[0;32mdef\u001b[0m \u001b[0mdeco\u001b[0m\u001b[0;34m(\u001b[0m\u001b[0;34m*\u001b[0m\u001b[0ma\u001b[0m\u001b[0;34m,\u001b[0m \u001b[0;34m**\u001b[0m\u001b[0mkw\u001b[0m\u001b[0;34m)\u001b[0m\u001b[0;34m:\u001b[0m\u001b[0;34m\u001b[0m\u001b[0;34m\u001b[0m\u001b[0m\n\u001b[1;32m    110\u001b[0m         \u001b[0;32mtry\u001b[0m\u001b[0;34m:\u001b[0m\u001b[0;34m\u001b[0m\u001b[0;34m\u001b[0m\u001b[0m\n\u001b[0;32m--> 111\u001b[0;31m             \u001b[0;32mreturn\u001b[0m \u001b[0mf\u001b[0m\u001b[0;34m(\u001b[0m\u001b[0;34m*\u001b[0m\u001b[0ma\u001b[0m\u001b[0;34m,\u001b[0m \u001b[0;34m**\u001b[0m\u001b[0mkw\u001b[0m\u001b[0;34m)\u001b[0m\u001b[0;34m\u001b[0m\u001b[0;34m\u001b[0m\u001b[0m\n\u001b[0m\u001b[1;32m    112\u001b[0m         \u001b[0;32mexcept\u001b[0m \u001b[0mpy4j\u001b[0m\u001b[0;34m.\u001b[0m\u001b[0mprotocol\u001b[0m\u001b[0;34m.\u001b[0m\u001b[0mPy4JJavaError\u001b[0m \u001b[0;32mas\u001b[0m \u001b[0me\u001b[0m\u001b[0;34m:\u001b[0m\u001b[0;34m\u001b[0m\u001b[0;34m\u001b[0m\u001b[0m\n\u001b[1;32m    113\u001b[0m             \u001b[0mconverted\u001b[0m \u001b[0;34m=\u001b[0m \u001b[0mconvert_exception\u001b[0m\u001b[0;34m(\u001b[0m\u001b[0me\u001b[0m\u001b[0;34m.\u001b[0m\u001b[0mjava_exception\u001b[0m\u001b[0;34m)\u001b[0m\u001b[0;34m\u001b[0m\u001b[0;34m\u001b[0m\u001b[0m\n",
      "\u001b[0;32m/content/spark-3.2.3-bin-hadoop2.7/python/lib/py4j-0.10.9.5-src.zip/py4j/protocol.py\u001b[0m in \u001b[0;36mget_return_value\u001b[0;34m(answer, gateway_client, target_id, name)\u001b[0m\n\u001b[1;32m    324\u001b[0m             \u001b[0mvalue\u001b[0m \u001b[0;34m=\u001b[0m \u001b[0mOUTPUT_CONVERTER\u001b[0m\u001b[0;34m[\u001b[0m\u001b[0mtype\u001b[0m\u001b[0;34m]\u001b[0m\u001b[0;34m(\u001b[0m\u001b[0manswer\u001b[0m\u001b[0;34m[\u001b[0m\u001b[0;36m2\u001b[0m\u001b[0;34m:\u001b[0m\u001b[0;34m]\u001b[0m\u001b[0;34m,\u001b[0m \u001b[0mgateway_client\u001b[0m\u001b[0;34m)\u001b[0m\u001b[0;34m\u001b[0m\u001b[0;34m\u001b[0m\u001b[0m\n\u001b[1;32m    325\u001b[0m             \u001b[0;32mif\u001b[0m \u001b[0manswer\u001b[0m\u001b[0;34m[\u001b[0m\u001b[0;36m1\u001b[0m\u001b[0;34m]\u001b[0m \u001b[0;34m==\u001b[0m \u001b[0mREFERENCE_TYPE\u001b[0m\u001b[0;34m:\u001b[0m\u001b[0;34m\u001b[0m\u001b[0;34m\u001b[0m\u001b[0m\n\u001b[0;32m--> 326\u001b[0;31m                 raise Py4JJavaError(\n\u001b[0m\u001b[1;32m    327\u001b[0m                     \u001b[0;34m\"An error occurred while calling {0}{1}{2}.\\n\"\u001b[0m\u001b[0;34m.\u001b[0m\u001b[0;34m\u001b[0m\u001b[0;34m\u001b[0m\u001b[0m\n\u001b[1;32m    328\u001b[0m                     format(target_id, \".\", name), value)\n",
      "\u001b[0;31mPy4JJavaError\u001b[0m: An error occurred while calling o83.jdbc.\n: org.postgresql.util.PSQLException: Connection to localhost:5432 refused. Check that the hostname and port are correct and that the postmaster is accepting TCP/IP connections.\n\tat org.postgresql.core.v3.ConnectionFactoryImpl.openConnectionImpl(ConnectionFactoryImpl.java:280)\n\tat org.postgresql.core.ConnectionFactory.openConnection(ConnectionFactory.java:49)\n\tat org.postgresql.jdbc.PgConnection.<init>(PgConnection.java:211)\n\tat org.postgresql.Driver.makeConnection(Driver.java:458)\n\tat org.postgresql.Driver.connect(Driver.java:260)\n\tat org.apache.spark.sql.execution.datasources.jdbc.connection.BasicConnectionProvider.getConnection(BasicConnectionProvider.scala:49)\n\tat org.apache.spark.sql.execution.datasources.jdbc.connection.ConnectionProvider$.create(ConnectionProvider.scala:77)\n\tat org.apache.spark.sql.execution.datasources.jdbc.JdbcUtils$.$anonfun$createConnectionFactory$1(JdbcUtils.scala:64)\n\tat org.apache.spark.sql.execution.datasources.jdbc.JdbcRelationProvider.createRelation(JdbcRelationProvider.scala:49)\n\tat org.apache.spark.sql.execution.datasources.SaveIntoDataSourceCommand.run(SaveIntoDataSourceCommand.scala:47)\n\tat org.apache.spark.sql.execution.command.ExecutedCommandExec.sideEffectResult$lzycompute(commands.scala:75)\n\tat org.apache.spark.sql.execution.command.ExecutedCommandExec.sideEffectResult(commands.scala:73)\n\tat org.apache.spark.sql.execution.command.ExecutedCommandExec.executeCollect(commands.scala:84)\n\tat org.apache.spark.sql.execution.QueryExecution$$anonfun$eagerlyExecuteCommands$1.$anonfun$applyOrElse$1(QueryExecution.scala:97)\n\tat org.apache.spark.sql.execution.SQLExecution$.$anonfun$withNewExecutionId$5(SQLExecution.scala:103)\n\tat org.apache.spark.sql.execution.SQLExecution$.withSQLConfPropagated(SQLExecution.scala:163)\n\tat org.apache.spark.sql.execution.SQLExecution$.$anonfun$withNewExecutionId$1(SQLExecution.scala:90)\n\tat org.apache.spark.sql.SparkSession.withActive(SparkSession.scala:775)\n\tat org.apache.spark.sql.execution.SQLExecution$.withNewExecutionId(SQLExecution.scala:64)\n\tat org.apache.spark.sql.execution.QueryExecution$$anonfun$eagerlyExecuteCommands$1.applyOrElse(QueryExecution.scala:97)\n\tat org.apache.spark.sql.execution.QueryExecution$$anonfun$eagerlyExecuteCommands$1.applyOrElse(QueryExecution.scala:93)\n\tat org.apache.spark.sql.catalyst.trees.TreeNode.$anonfun$transformDownWithPruning$1(TreeNode.scala:481)\n\tat org.apache.spark.sql.catalyst.trees.CurrentOrigin$.withOrigin(TreeNode.scala:82)\n\tat org.apache.spark.sql.catalyst.trees.TreeNode.transformDownWithPruning(TreeNode.scala:481)\n\tat org.apache.spark.sql.catalyst.plans.logical.LogicalPlan.org$apache$spark$sql$catalyst$plans$logical$AnalysisHelper$$super$transformDownWithPruning(LogicalPlan.scala:30)\n\tat org.apache.spark.sql.catalyst.plans.logical.AnalysisHelper.transformDownWithPruning(AnalysisHelper.scala:267)\n\tat org.apache.spark.sql.catalyst.plans.logical.AnalysisHelper.transformDownWithPruning$(AnalysisHelper.scala:263)\n\tat org.apache.spark.sql.catalyst.plans.logical.LogicalPlan.transformDownWithPruning(LogicalPlan.scala:30)\n\tat org.apache.spark.sql.catalyst.plans.logical.LogicalPlan.transformDownWithPruning(LogicalPlan.scala:30)\n\tat org.apache.spark.sql.catalyst.trees.TreeNode.transformDown(TreeNode.scala:457)\n\tat org.apache.spark.sql.execution.QueryExecution.eagerlyExecuteCommands(QueryExecution.scala:93)\n\tat org.apache.spark.sql.execution.QueryExecution.commandExecuted$lzycompute(QueryExecution.scala:80)\n\tat org.apache.spark.sql.execution.QueryExecution.commandExecuted(QueryExecution.scala:78)\n\tat org.apache.spark.sql.execution.QueryExecution.assertCommandExecuted(QueryExecution.scala:115)\n\tat org.apache.spark.sql.DataFrameWriter.runCommand(DataFrameWriter.scala:848)\n\tat org.apache.spark.sql.DataFrameWriter.saveToV1Source(DataFrameWriter.scala:382)\n\tat org.apache.spark.sql.DataFrameWriter.saveInternal(DataFrameWriter.scala:355)\n\tat org.apache.spark.sql.DataFrameWriter.save(DataFrameWriter.scala:247)\n\tat org.apache.spark.sql.DataFrameWriter.jdbc(DataFrameWriter.scala:745)\n\tat java.base/jdk.internal.reflect.NativeMethodAccessorImpl.invoke0(Native Method)\n\tat java.base/jdk.internal.reflect.NativeMethodAccessorImpl.invoke(NativeMethodAccessorImpl.java:62)\n\tat java.base/jdk.internal.reflect.DelegatingMethodAccessorImpl.invoke(DelegatingMethodAccessorImpl.java:43)\n\tat java.base/java.lang.reflect.Method.invoke(Method.java:566)\n\tat py4j.reflection.MethodInvoker.invoke(MethodInvoker.java:244)\n\tat py4j.reflection.ReflectionEngine.invoke(ReflectionEngine.java:357)\n\tat py4j.Gateway.invoke(Gateway.java:282)\n\tat py4j.commands.AbstractCommand.invokeMethod(AbstractCommand.java:132)\n\tat py4j.commands.CallCommand.execute(CallCommand.java:79)\n\tat py4j.ClientServerConnection.waitForCommands(ClientServerConnection.java:182)\n\tat py4j.ClientServerConnection.run(ClientServerConnection.java:106)\n\tat java.base/java.lang.Thread.run(Thread.java:829)\nCaused by: java.net.ConnectException: Connection refused (Connection refused)\n\tat java.base/java.net.PlainSocketImpl.socketConnect(Native Method)\n\tat java.base/java.net.AbstractPlainSocketImpl.doConnect(AbstractPlainSocketImpl.java:412)\n\tat java.base/java.net.AbstractPlainSocketImpl.connectToAddress(AbstractPlainSocketImpl.java:255)\n\tat java.base/java.net.AbstractPlainSocketImpl.connect(AbstractPlainSocketImpl.java:237)\n\tat java.base/java.net.SocksSocketImpl.connect(SocksSocketImpl.java:392)\n\tat java.base/java.net.Socket.connect(Socket.java:609)\n\tat org.postgresql.core.PGStream.<init>(PGStream.java:75)\n\tat org.postgresql.core.v3.ConnectionFactoryImpl.tryConnect(ConnectionFactoryImpl.java:91)\n\tat org.postgresql.core.v3.ConnectionFactoryImpl.openConnectionImpl(ConnectionFactoryImpl.java:192)\n\t... 50 more\n"
     ]
    }
   ],
   "source": [
    "# Write review_id_df to table in RDS\n",
    "review_id_df.write.jdbc(url=jdbc_url, table='review_id_table', mode=mode, properties=config)"
   ]
  },
  {
   "cell_type": "code",
   "execution_count": null,
   "metadata": {
    "executionInfo": {
     "elapsed": 5,
     "status": "aborted",
     "timestamp": 1674117327286,
     "user": {
      "displayName": "Liam Baker",
      "userId": "06347422697440285228"
     },
     "user_tz": -660
    },
    "id": "pPXyGVE-2yPJ"
   },
   "outputs": [],
   "source": [
    "# Write products_df to table in RDS\n",
    "products_df.write.jdbc(url=jdbc_url, table='products', mode=mode, properties=config)"
   ]
  },
  {
   "cell_type": "code",
   "execution_count": null,
   "metadata": {
    "executionInfo": {
     "elapsed": 6,
     "status": "aborted",
     "timestamp": 1674117327287,
     "user": {
      "displayName": "Liam Baker",
      "userId": "06347422697440285228"
     },
     "user_tz": -660
    },
    "id": "aHbca4zN2yIa"
   },
   "outputs": [],
   "source": [
    "# Write customers_df to table in RDS\n",
    "review_id_df.write.jdbc(url=jdbc_url, table='customers', mode=mode, properties=config)"
   ]
  },
  {
   "cell_type": "code",
   "execution_count": null,
   "metadata": {
    "executionInfo": {
     "elapsed": 6,
     "status": "aborted",
     "timestamp": 1674117327287,
     "user": {
      "displayName": "Liam Baker",
      "userId": "06347422697440285228"
     },
     "user_tz": -660
    },
    "id": "2HfOFneW2x_F"
   },
   "outputs": [],
   "source": [
    "# Write vine_df to table in RDS\n",
    "review_id_df.write.jdbc(url=jdbc_url, table='vine_table', mode=mode, properties=config)"
   ]
  }
 ],
 "metadata": {
  "colab": {
   "provenance": []
  },
  "kernelspec": {
   "display_name": "Python 3 (ipykernel)",
   "language": "python",
   "name": "python3"
  },
  "language_info": {
   "codemirror_mode": {
    "name": "ipython",
    "version": 3
   },
   "file_extension": ".py",
   "mimetype": "text/x-python",
   "name": "python",
   "nbconvert_exporter": "python",
   "pygments_lexer": "ipython3",
   "version": "3.7.7"
  }
 },
 "nbformat": 4,
 "nbformat_minor": 1
}
